{
  "nbformat": 4,
  "nbformat_minor": 0,
  "metadata": {
    "colab": {
      "provenance": [],
      "authorship_tag": "ABX9TyNEho98KTNuwCnr2Obl4C7e",
      "include_colab_link": true
    },
    "kernelspec": {
      "name": "python3",
      "display_name": "Python 3"
    },
    "language_info": {
      "name": "python"
    }
  },
  "cells": [
    {
      "cell_type": "markdown",
      "metadata": {
        "id": "view-in-github",
        "colab_type": "text"
      },
      "source": [
        "<a href=\"https://colab.research.google.com/github/shilpashreshta/Data_Science_projects/blob/Employee_Attribution_Prediction/Employee_Attrition_V1.ipynb\" target=\"_parent\"><img src=\"https://colab.research.google.com/assets/colab-badge.svg\" alt=\"Open In Colab\"/></a>"
      ]
    },
    {
      "cell_type": "markdown",
      "source": [
        "# EMPLOYEE ATTRITION PREDICTION"
      ],
      "metadata": {
        "id": "ywMw00HZE2AE"
      }
    },
    {
      "cell_type": "code",
      "execution_count": null,
      "metadata": {
        "id": "_lIjQmMu9kUl"
      },
      "outputs": [],
      "source": [
        "# Import Python Lybraries\n",
        "import numpy as np\n",
        "import pandas as pd\n",
        "import seaborn as sns\n",
        "import matplotlib.pyplot as plt"
      ]
    },
    {
      "cell_type": "code",
      "source": [
        "# Loading the Employee attrition data by upload or refer next cell for github file read\n",
        "from google.colab import files\n",
        "files.upload()"
      ],
      "metadata": {
        "id": "ZldFfYaOFWlm"
      },
      "execution_count": null,
      "outputs": []
    },
    {
      "cell_type": "markdown",
      "source": [
        "##Read the data"
      ],
      "metadata": {
        "id": "ROfx4eSlHzaT"
      }
    },
    {
      "cell_type": "code",
      "source": [
        "#Read the file into a dataframe\n",
        "df= pd.read_csv(r'https://raw.githubusercontent.com/shilpashreshta/Data_Science_projects/refs/heads/Employee_Attribution_Prediction/Employee-Attrition.csv')\n",
        "df.head()"
      ],
      "metadata": {
        "id": "ntqNDrjoGOon",
        "colab": {
          "base_uri": "https://localhost:8080/",
          "height": 313
        },
        "outputId": "e603d51b-58e1-4fd0-f20f-072aaf417f89"
      },
      "execution_count": null,
      "outputs": [
        {
          "output_type": "execute_result",
          "data": {
            "text/plain": [
              "   Age Attrition     BusinessTravel  DailyRate              Department  \\\n",
              "0   41       Yes      Travel_Rarely       1102                   Sales   \n",
              "1   49        No  Travel_Frequently        279  Research & Development   \n",
              "2   37       Yes      Travel_Rarely       1373  Research & Development   \n",
              "3   33        No  Travel_Frequently       1392  Research & Development   \n",
              "4   27        No      Travel_Rarely        591  Research & Development   \n",
              "\n",
              "   DistanceFromHome  Education EducationField  EmployeeCount  EmployeeNumber  \\\n",
              "0                 1          2  Life Sciences              1               1   \n",
              "1                 8          1  Life Sciences              1               2   \n",
              "2                 2          2          Other              1               4   \n",
              "3                 3          4  Life Sciences              1               5   \n",
              "4                 2          1        Medical              1               7   \n",
              "\n",
              "   EnvironmentSatisfaction  Gender  HourlyRate  JobInvolvement  JobLevel  \\\n",
              "0                        2  Female          94               3         2   \n",
              "1                        3    Male          61               2         2   \n",
              "2                        4    Male          92               2         1   \n",
              "3                        4  Female          56               3         1   \n",
              "4                        1    Male          40               3         1   \n",
              "\n",
              "                 JobRole  JobSatisfaction MaritalStatus  MonthlyIncome  \\\n",
              "0        Sales Executive                4        Single           5993   \n",
              "1     Research Scientist                2       Married           5130   \n",
              "2  Laboratory Technician                3        Single           2090   \n",
              "3     Research Scientist                3       Married           2909   \n",
              "4  Laboratory Technician                2       Married           3468   \n",
              "\n",
              "   MonthlyRate  NumCompaniesWorked Over18 OverTime  PercentSalaryHike  \\\n",
              "0        19479                   8      Y      Yes                 11   \n",
              "1        24907                   1      Y       No                 23   \n",
              "2         2396                   6      Y      Yes                 15   \n",
              "3        23159                   1      Y      Yes                 11   \n",
              "4        16632                   9      Y       No                 12   \n",
              "\n",
              "   PerformanceRating  RelationshipSatisfaction  StandardHours  \\\n",
              "0                  3                         1             80   \n",
              "1                  4                         4             80   \n",
              "2                  3                         2             80   \n",
              "3                  3                         3             80   \n",
              "4                  3                         4             80   \n",
              "\n",
              "   StockOptionLevel  TotalWorkingYears  TrainingTimesLastYear  \\\n",
              "0                 0                  8                      0   \n",
              "1                 1                 10                      3   \n",
              "2                 0                  7                      3   \n",
              "3                 0                  8                      3   \n",
              "4                 1                  6                      3   \n",
              "\n",
              "   WorkLifeBalance  YearsAtCompany  YearsInCurrentRole  \\\n",
              "0                1               6                   4   \n",
              "1                3              10                   7   \n",
              "2                3               0                   0   \n",
              "3                3               8                   7   \n",
              "4                3               2                   2   \n",
              "\n",
              "   YearsSinceLastPromotion  YearsWithCurrManager  \n",
              "0                        0                     5  \n",
              "1                        1                     7  \n",
              "2                        0                     0  \n",
              "3                        3                     0  \n",
              "4                        2                     2  "
            ],
            "text/html": [
              "\n",
              "  <div id=\"df-f17df013-5314-4b8b-85d1-fb01b7717846\" class=\"colab-df-container\">\n",
              "    <div>\n",
              "<style scoped>\n",
              "    .dataframe tbody tr th:only-of-type {\n",
              "        vertical-align: middle;\n",
              "    }\n",
              "\n",
              "    .dataframe tbody tr th {\n",
              "        vertical-align: top;\n",
              "    }\n",
              "\n",
              "    .dataframe thead th {\n",
              "        text-align: right;\n",
              "    }\n",
              "</style>\n",
              "<table border=\"1\" class=\"dataframe\">\n",
              "  <thead>\n",
              "    <tr style=\"text-align: right;\">\n",
              "      <th></th>\n",
              "      <th>Age</th>\n",
              "      <th>Attrition</th>\n",
              "      <th>BusinessTravel</th>\n",
              "      <th>DailyRate</th>\n",
              "      <th>Department</th>\n",
              "      <th>DistanceFromHome</th>\n",
              "      <th>Education</th>\n",
              "      <th>EducationField</th>\n",
              "      <th>EmployeeCount</th>\n",
              "      <th>EmployeeNumber</th>\n",
              "      <th>EnvironmentSatisfaction</th>\n",
              "      <th>Gender</th>\n",
              "      <th>HourlyRate</th>\n",
              "      <th>JobInvolvement</th>\n",
              "      <th>JobLevel</th>\n",
              "      <th>JobRole</th>\n",
              "      <th>JobSatisfaction</th>\n",
              "      <th>MaritalStatus</th>\n",
              "      <th>MonthlyIncome</th>\n",
              "      <th>MonthlyRate</th>\n",
              "      <th>NumCompaniesWorked</th>\n",
              "      <th>Over18</th>\n",
              "      <th>OverTime</th>\n",
              "      <th>PercentSalaryHike</th>\n",
              "      <th>PerformanceRating</th>\n",
              "      <th>RelationshipSatisfaction</th>\n",
              "      <th>StandardHours</th>\n",
              "      <th>StockOptionLevel</th>\n",
              "      <th>TotalWorkingYears</th>\n",
              "      <th>TrainingTimesLastYear</th>\n",
              "      <th>WorkLifeBalance</th>\n",
              "      <th>YearsAtCompany</th>\n",
              "      <th>YearsInCurrentRole</th>\n",
              "      <th>YearsSinceLastPromotion</th>\n",
              "      <th>YearsWithCurrManager</th>\n",
              "    </tr>\n",
              "  </thead>\n",
              "  <tbody>\n",
              "    <tr>\n",
              "      <th>0</th>\n",
              "      <td>41</td>\n",
              "      <td>Yes</td>\n",
              "      <td>Travel_Rarely</td>\n",
              "      <td>1102</td>\n",
              "      <td>Sales</td>\n",
              "      <td>1</td>\n",
              "      <td>2</td>\n",
              "      <td>Life Sciences</td>\n",
              "      <td>1</td>\n",
              "      <td>1</td>\n",
              "      <td>2</td>\n",
              "      <td>Female</td>\n",
              "      <td>94</td>\n",
              "      <td>3</td>\n",
              "      <td>2</td>\n",
              "      <td>Sales Executive</td>\n",
              "      <td>4</td>\n",
              "      <td>Single</td>\n",
              "      <td>5993</td>\n",
              "      <td>19479</td>\n",
              "      <td>8</td>\n",
              "      <td>Y</td>\n",
              "      <td>Yes</td>\n",
              "      <td>11</td>\n",
              "      <td>3</td>\n",
              "      <td>1</td>\n",
              "      <td>80</td>\n",
              "      <td>0</td>\n",
              "      <td>8</td>\n",
              "      <td>0</td>\n",
              "      <td>1</td>\n",
              "      <td>6</td>\n",
              "      <td>4</td>\n",
              "      <td>0</td>\n",
              "      <td>5</td>\n",
              "    </tr>\n",
              "    <tr>\n",
              "      <th>1</th>\n",
              "      <td>49</td>\n",
              "      <td>No</td>\n",
              "      <td>Travel_Frequently</td>\n",
              "      <td>279</td>\n",
              "      <td>Research &amp; Development</td>\n",
              "      <td>8</td>\n",
              "      <td>1</td>\n",
              "      <td>Life Sciences</td>\n",
              "      <td>1</td>\n",
              "      <td>2</td>\n",
              "      <td>3</td>\n",
              "      <td>Male</td>\n",
              "      <td>61</td>\n",
              "      <td>2</td>\n",
              "      <td>2</td>\n",
              "      <td>Research Scientist</td>\n",
              "      <td>2</td>\n",
              "      <td>Married</td>\n",
              "      <td>5130</td>\n",
              "      <td>24907</td>\n",
              "      <td>1</td>\n",
              "      <td>Y</td>\n",
              "      <td>No</td>\n",
              "      <td>23</td>\n",
              "      <td>4</td>\n",
              "      <td>4</td>\n",
              "      <td>80</td>\n",
              "      <td>1</td>\n",
              "      <td>10</td>\n",
              "      <td>3</td>\n",
              "      <td>3</td>\n",
              "      <td>10</td>\n",
              "      <td>7</td>\n",
              "      <td>1</td>\n",
              "      <td>7</td>\n",
              "    </tr>\n",
              "    <tr>\n",
              "      <th>2</th>\n",
              "      <td>37</td>\n",
              "      <td>Yes</td>\n",
              "      <td>Travel_Rarely</td>\n",
              "      <td>1373</td>\n",
              "      <td>Research &amp; Development</td>\n",
              "      <td>2</td>\n",
              "      <td>2</td>\n",
              "      <td>Other</td>\n",
              "      <td>1</td>\n",
              "      <td>4</td>\n",
              "      <td>4</td>\n",
              "      <td>Male</td>\n",
              "      <td>92</td>\n",
              "      <td>2</td>\n",
              "      <td>1</td>\n",
              "      <td>Laboratory Technician</td>\n",
              "      <td>3</td>\n",
              "      <td>Single</td>\n",
              "      <td>2090</td>\n",
              "      <td>2396</td>\n",
              "      <td>6</td>\n",
              "      <td>Y</td>\n",
              "      <td>Yes</td>\n",
              "      <td>15</td>\n",
              "      <td>3</td>\n",
              "      <td>2</td>\n",
              "      <td>80</td>\n",
              "      <td>0</td>\n",
              "      <td>7</td>\n",
              "      <td>3</td>\n",
              "      <td>3</td>\n",
              "      <td>0</td>\n",
              "      <td>0</td>\n",
              "      <td>0</td>\n",
              "      <td>0</td>\n",
              "    </tr>\n",
              "    <tr>\n",
              "      <th>3</th>\n",
              "      <td>33</td>\n",
              "      <td>No</td>\n",
              "      <td>Travel_Frequently</td>\n",
              "      <td>1392</td>\n",
              "      <td>Research &amp; Development</td>\n",
              "      <td>3</td>\n",
              "      <td>4</td>\n",
              "      <td>Life Sciences</td>\n",
              "      <td>1</td>\n",
              "      <td>5</td>\n",
              "      <td>4</td>\n",
              "      <td>Female</td>\n",
              "      <td>56</td>\n",
              "      <td>3</td>\n",
              "      <td>1</td>\n",
              "      <td>Research Scientist</td>\n",
              "      <td>3</td>\n",
              "      <td>Married</td>\n",
              "      <td>2909</td>\n",
              "      <td>23159</td>\n",
              "      <td>1</td>\n",
              "      <td>Y</td>\n",
              "      <td>Yes</td>\n",
              "      <td>11</td>\n",
              "      <td>3</td>\n",
              "      <td>3</td>\n",
              "      <td>80</td>\n",
              "      <td>0</td>\n",
              "      <td>8</td>\n",
              "      <td>3</td>\n",
              "      <td>3</td>\n",
              "      <td>8</td>\n",
              "      <td>7</td>\n",
              "      <td>3</td>\n",
              "      <td>0</td>\n",
              "    </tr>\n",
              "    <tr>\n",
              "      <th>4</th>\n",
              "      <td>27</td>\n",
              "      <td>No</td>\n",
              "      <td>Travel_Rarely</td>\n",
              "      <td>591</td>\n",
              "      <td>Research &amp; Development</td>\n",
              "      <td>2</td>\n",
              "      <td>1</td>\n",
              "      <td>Medical</td>\n",
              "      <td>1</td>\n",
              "      <td>7</td>\n",
              "      <td>1</td>\n",
              "      <td>Male</td>\n",
              "      <td>40</td>\n",
              "      <td>3</td>\n",
              "      <td>1</td>\n",
              "      <td>Laboratory Technician</td>\n",
              "      <td>2</td>\n",
              "      <td>Married</td>\n",
              "      <td>3468</td>\n",
              "      <td>16632</td>\n",
              "      <td>9</td>\n",
              "      <td>Y</td>\n",
              "      <td>No</td>\n",
              "      <td>12</td>\n",
              "      <td>3</td>\n",
              "      <td>4</td>\n",
              "      <td>80</td>\n",
              "      <td>1</td>\n",
              "      <td>6</td>\n",
              "      <td>3</td>\n",
              "      <td>3</td>\n",
              "      <td>2</td>\n",
              "      <td>2</td>\n",
              "      <td>2</td>\n",
              "      <td>2</td>\n",
              "    </tr>\n",
              "  </tbody>\n",
              "</table>\n",
              "</div>\n",
              "    <div class=\"colab-df-buttons\">\n",
              "\n",
              "  <div class=\"colab-df-container\">\n",
              "    <button class=\"colab-df-convert\" onclick=\"convertToInteractive('df-f17df013-5314-4b8b-85d1-fb01b7717846')\"\n",
              "            title=\"Convert this dataframe to an interactive table.\"\n",
              "            style=\"display:none;\">\n",
              "\n",
              "  <svg xmlns=\"http://www.w3.org/2000/svg\" height=\"24px\" viewBox=\"0 -960 960 960\">\n",
              "    <path d=\"M120-120v-720h720v720H120Zm60-500h600v-160H180v160Zm220 220h160v-160H400v160Zm0 220h160v-160H400v160ZM180-400h160v-160H180v160Zm440 0h160v-160H620v160ZM180-180h160v-160H180v160Zm440 0h160v-160H620v160Z\"/>\n",
              "  </svg>\n",
              "    </button>\n",
              "\n",
              "  <style>\n",
              "    .colab-df-container {\n",
              "      display:flex;\n",
              "      gap: 12px;\n",
              "    }\n",
              "\n",
              "    .colab-df-convert {\n",
              "      background-color: #E8F0FE;\n",
              "      border: none;\n",
              "      border-radius: 50%;\n",
              "      cursor: pointer;\n",
              "      display: none;\n",
              "      fill: #1967D2;\n",
              "      height: 32px;\n",
              "      padding: 0 0 0 0;\n",
              "      width: 32px;\n",
              "    }\n",
              "\n",
              "    .colab-df-convert:hover {\n",
              "      background-color: #E2EBFA;\n",
              "      box-shadow: 0px 1px 2px rgba(60, 64, 67, 0.3), 0px 1px 3px 1px rgba(60, 64, 67, 0.15);\n",
              "      fill: #174EA6;\n",
              "    }\n",
              "\n",
              "    .colab-df-buttons div {\n",
              "      margin-bottom: 4px;\n",
              "    }\n",
              "\n",
              "    [theme=dark] .colab-df-convert {\n",
              "      background-color: #3B4455;\n",
              "      fill: #D2E3FC;\n",
              "    }\n",
              "\n",
              "    [theme=dark] .colab-df-convert:hover {\n",
              "      background-color: #434B5C;\n",
              "      box-shadow: 0px 1px 3px 1px rgba(0, 0, 0, 0.15);\n",
              "      filter: drop-shadow(0px 1px 2px rgba(0, 0, 0, 0.3));\n",
              "      fill: #FFFFFF;\n",
              "    }\n",
              "  </style>\n",
              "\n",
              "    <script>\n",
              "      const buttonEl =\n",
              "        document.querySelector('#df-f17df013-5314-4b8b-85d1-fb01b7717846 button.colab-df-convert');\n",
              "      buttonEl.style.display =\n",
              "        google.colab.kernel.accessAllowed ? 'block' : 'none';\n",
              "\n",
              "      async function convertToInteractive(key) {\n",
              "        const element = document.querySelector('#df-f17df013-5314-4b8b-85d1-fb01b7717846');\n",
              "        const dataTable =\n",
              "          await google.colab.kernel.invokeFunction('convertToInteractive',\n",
              "                                                    [key], {});\n",
              "        if (!dataTable) return;\n",
              "\n",
              "        const docLinkHtml = 'Like what you see? Visit the ' +\n",
              "          '<a target=\"_blank\" href=https://colab.research.google.com/notebooks/data_table.ipynb>data table notebook</a>'\n",
              "          + ' to learn more about interactive tables.';\n",
              "        element.innerHTML = '';\n",
              "        dataTable['output_type'] = 'display_data';\n",
              "        await google.colab.output.renderOutput(dataTable, element);\n",
              "        const docLink = document.createElement('div');\n",
              "        docLink.innerHTML = docLinkHtml;\n",
              "        element.appendChild(docLink);\n",
              "      }\n",
              "    </script>\n",
              "  </div>\n",
              "\n",
              "\n",
              "<div id=\"df-50fa7763-8baf-4c34-a672-8bc2186b73d1\">\n",
              "  <button class=\"colab-df-quickchart\" onclick=\"quickchart('df-50fa7763-8baf-4c34-a672-8bc2186b73d1')\"\n",
              "            title=\"Suggest charts\"\n",
              "            style=\"display:none;\">\n",
              "\n",
              "<svg xmlns=\"http://www.w3.org/2000/svg\" height=\"24px\"viewBox=\"0 0 24 24\"\n",
              "     width=\"24px\">\n",
              "    <g>\n",
              "        <path d=\"M19 3H5c-1.1 0-2 .9-2 2v14c0 1.1.9 2 2 2h14c1.1 0 2-.9 2-2V5c0-1.1-.9-2-2-2zM9 17H7v-7h2v7zm4 0h-2V7h2v10zm4 0h-2v-4h2v4z\"/>\n",
              "    </g>\n",
              "</svg>\n",
              "  </button>\n",
              "\n",
              "<style>\n",
              "  .colab-df-quickchart {\n",
              "      --bg-color: #E8F0FE;\n",
              "      --fill-color: #1967D2;\n",
              "      --hover-bg-color: #E2EBFA;\n",
              "      --hover-fill-color: #174EA6;\n",
              "      --disabled-fill-color: #AAA;\n",
              "      --disabled-bg-color: #DDD;\n",
              "  }\n",
              "\n",
              "  [theme=dark] .colab-df-quickchart {\n",
              "      --bg-color: #3B4455;\n",
              "      --fill-color: #D2E3FC;\n",
              "      --hover-bg-color: #434B5C;\n",
              "      --hover-fill-color: #FFFFFF;\n",
              "      --disabled-bg-color: #3B4455;\n",
              "      --disabled-fill-color: #666;\n",
              "  }\n",
              "\n",
              "  .colab-df-quickchart {\n",
              "    background-color: var(--bg-color);\n",
              "    border: none;\n",
              "    border-radius: 50%;\n",
              "    cursor: pointer;\n",
              "    display: none;\n",
              "    fill: var(--fill-color);\n",
              "    height: 32px;\n",
              "    padding: 0;\n",
              "    width: 32px;\n",
              "  }\n",
              "\n",
              "  .colab-df-quickchart:hover {\n",
              "    background-color: var(--hover-bg-color);\n",
              "    box-shadow: 0 1px 2px rgba(60, 64, 67, 0.3), 0 1px 3px 1px rgba(60, 64, 67, 0.15);\n",
              "    fill: var(--button-hover-fill-color);\n",
              "  }\n",
              "\n",
              "  .colab-df-quickchart-complete:disabled,\n",
              "  .colab-df-quickchart-complete:disabled:hover {\n",
              "    background-color: var(--disabled-bg-color);\n",
              "    fill: var(--disabled-fill-color);\n",
              "    box-shadow: none;\n",
              "  }\n",
              "\n",
              "  .colab-df-spinner {\n",
              "    border: 2px solid var(--fill-color);\n",
              "    border-color: transparent;\n",
              "    border-bottom-color: var(--fill-color);\n",
              "    animation:\n",
              "      spin 1s steps(1) infinite;\n",
              "  }\n",
              "\n",
              "  @keyframes spin {\n",
              "    0% {\n",
              "      border-color: transparent;\n",
              "      border-bottom-color: var(--fill-color);\n",
              "      border-left-color: var(--fill-color);\n",
              "    }\n",
              "    20% {\n",
              "      border-color: transparent;\n",
              "      border-left-color: var(--fill-color);\n",
              "      border-top-color: var(--fill-color);\n",
              "    }\n",
              "    30% {\n",
              "      border-color: transparent;\n",
              "      border-left-color: var(--fill-color);\n",
              "      border-top-color: var(--fill-color);\n",
              "      border-right-color: var(--fill-color);\n",
              "    }\n",
              "    40% {\n",
              "      border-color: transparent;\n",
              "      border-right-color: var(--fill-color);\n",
              "      border-top-color: var(--fill-color);\n",
              "    }\n",
              "    60% {\n",
              "      border-color: transparent;\n",
              "      border-right-color: var(--fill-color);\n",
              "    }\n",
              "    80% {\n",
              "      border-color: transparent;\n",
              "      border-right-color: var(--fill-color);\n",
              "      border-bottom-color: var(--fill-color);\n",
              "    }\n",
              "    90% {\n",
              "      border-color: transparent;\n",
              "      border-bottom-color: var(--fill-color);\n",
              "    }\n",
              "  }\n",
              "</style>\n",
              "\n",
              "  <script>\n",
              "    async function quickchart(key) {\n",
              "      const quickchartButtonEl =\n",
              "        document.querySelector('#' + key + ' button');\n",
              "      quickchartButtonEl.disabled = true;  // To prevent multiple clicks.\n",
              "      quickchartButtonEl.classList.add('colab-df-spinner');\n",
              "      try {\n",
              "        const charts = await google.colab.kernel.invokeFunction(\n",
              "            'suggestCharts', [key], {});\n",
              "      } catch (error) {\n",
              "        console.error('Error during call to suggestCharts:', error);\n",
              "      }\n",
              "      quickchartButtonEl.classList.remove('colab-df-spinner');\n",
              "      quickchartButtonEl.classList.add('colab-df-quickchart-complete');\n",
              "    }\n",
              "    (() => {\n",
              "      let quickchartButtonEl =\n",
              "        document.querySelector('#df-50fa7763-8baf-4c34-a672-8bc2186b73d1 button');\n",
              "      quickchartButtonEl.style.display =\n",
              "        google.colab.kernel.accessAllowed ? 'block' : 'none';\n",
              "    })();\n",
              "  </script>\n",
              "</div>\n",
              "\n",
              "    </div>\n",
              "  </div>\n"
            ],
            "application/vnd.google.colaboratory.intrinsic+json": {
              "type": "dataframe",
              "variable_name": "df"
            }
          },
          "metadata": {},
          "execution_count": 24
        }
      ]
    },
    {
      "cell_type": "code",
      "source": [
        "#all columns not visible above, so ...\n",
        "pd.set_option('display.max_columns',None)"
      ],
      "metadata": {
        "id": "4J_A5nv0LRVw"
      },
      "execution_count": null,
      "outputs": []
    },
    {
      "cell_type": "markdown",
      "source": [],
      "metadata": {
        "id": "PMdttEpzIlIH"
      }
    },
    {
      "cell_type": "markdown",
      "source": [
        "##Exploratory Data Analysis"
      ],
      "metadata": {
        "id": "jV_qstw0Imrr"
      }
    },
    {
      "cell_type": "code",
      "source": [
        "#shape of data\n",
        "df.shape"
      ],
      "metadata": {
        "id": "Habl_jEKGn-4"
      },
      "execution_count": null,
      "outputs": []
    },
    {
      "cell_type": "code",
      "source": [
        "#check if any columns have null values\n",
        "df.isnull().any()"
      ],
      "metadata": {
        "id": "l06soGX-H7t3"
      },
      "execution_count": null,
      "outputs": []
    },
    {
      "cell_type": "code",
      "source": [
        "#check if any column has single value entirely\n",
        "uniq_val= {col: df[col].unique() for col in df.columns}\n",
        "for col,values in uniq_val.items():\n",
        "    print(f\"{col},: ,{values}\")"
      ],
      "metadata": {
        "id": "sthtx2ETIHgn"
      },
      "execution_count": null,
      "outputs": []
    },
    {
      "cell_type": "code",
      "source": [
        "#Drop the columns having single values entirely: EmployeeCount, StandardHours, Over18\n",
        "df1=df.drop(['EmployeeCount','EmployeeNumber', 'StandardHours', 'Over18'],axis=1)"
      ],
      "metadata": {
        "id": "rX0XYXzIIxHi"
      },
      "execution_count": null,
      "outputs": []
    },
    {
      "cell_type": "code",
      "source": [
        "#check for na values\n",
        "df1.isna().sum()"
      ],
      "metadata": {
        "id": "85a7NDhFNiqb"
      },
      "execution_count": null,
      "outputs": []
    },
    {
      "cell_type": "code",
      "source": [
        "#check for null values\n",
        "df1.isnull().sum()"
      ],
      "metadata": {
        "id": "pIQ8O6r1OXU3"
      },
      "execution_count": null,
      "outputs": []
    },
    {
      "cell_type": "code",
      "source": [
        "df1.info()"
      ],
      "metadata": {
        "id": "qpICtUzgToMx"
      },
      "execution_count": null,
      "outputs": []
    },
    {
      "cell_type": "code",
      "source": [
        "#check for statistical details\n",
        "df1.describe()"
      ],
      "metadata": {
        "id": "nrN8sP55Oeqf"
      },
      "execution_count": null,
      "outputs": []
    },
    {
      "cell_type": "code",
      "source": [
        "#check for datatypes\n",
        "#df1.select_dtypes(include='object').columns\n",
        "for col in df1.columns:\n",
        "  if df1[col].dtype==object:\n",
        "    print(str(col)+': '+str(df1[col].unique()))\n",
        "    print(df1[col].value_counts())\n",
        "    print('--------------------------------------------------')\n"
      ],
      "metadata": {
        "id": "5Dx-yt84Pn5I",
        "colab": {
          "base_uri": "https://localhost:8080/"
        },
        "outputId": "a44f1b3f-baa5-44b7-9d0d-9cd4cc16109d"
      },
      "execution_count": null,
      "outputs": [
        {
          "output_type": "stream",
          "name": "stdout",
          "text": [
            "Attrition: ['Yes' 'No']\n",
            "Attrition\n",
            "No     1233\n",
            "Yes     237\n",
            "Name: count, dtype: int64\n",
            "--------------------------------------------------\n",
            "BusinessTravel: ['Travel_Rarely' 'Travel_Frequently' 'Non-Travel']\n",
            "BusinessTravel\n",
            "Travel_Rarely        1043\n",
            "Travel_Frequently     277\n",
            "Non-Travel            150\n",
            "Name: count, dtype: int64\n",
            "--------------------------------------------------\n",
            "Department: ['Sales' 'Research & Development' 'Human Resources']\n",
            "Department\n",
            "Research & Development    961\n",
            "Sales                     446\n",
            "Human Resources            63\n",
            "Name: count, dtype: int64\n",
            "--------------------------------------------------\n",
            "EducationField: ['Life Sciences' 'Other' 'Medical' 'Marketing' 'Technical Degree'\n",
            " 'Human Resources']\n",
            "EducationField\n",
            "Life Sciences       606\n",
            "Medical             464\n",
            "Marketing           159\n",
            "Technical Degree    132\n",
            "Other                82\n",
            "Human Resources      27\n",
            "Name: count, dtype: int64\n",
            "--------------------------------------------------\n",
            "Gender: ['Female' 'Male']\n",
            "Gender\n",
            "Male      882\n",
            "Female    588\n",
            "Name: count, dtype: int64\n",
            "--------------------------------------------------\n",
            "JobRole: ['Sales Executive' 'Research Scientist' 'Laboratory Technician'\n",
            " 'Manufacturing Director' 'Healthcare Representative' 'Manager'\n",
            " 'Sales Representative' 'Research Director' 'Human Resources']\n",
            "JobRole\n",
            "Sales Executive              326\n",
            "Research Scientist           292\n",
            "Laboratory Technician        259\n",
            "Manufacturing Director       145\n",
            "Healthcare Representative    131\n",
            "Manager                      102\n",
            "Sales Representative          83\n",
            "Research Director             80\n",
            "Human Resources               52\n",
            "Name: count, dtype: int64\n",
            "--------------------------------------------------\n",
            "MaritalStatus: ['Single' 'Married' 'Divorced']\n",
            "MaritalStatus\n",
            "Married     673\n",
            "Single      470\n",
            "Divorced    327\n",
            "Name: count, dtype: int64\n",
            "--------------------------------------------------\n",
            "OverTime: ['Yes' 'No']\n",
            "OverTime\n",
            "No     1054\n",
            "Yes     416\n",
            "Name: count, dtype: int64\n",
            "--------------------------------------------------\n"
          ]
        }
      ]
    },
    {
      "cell_type": "code",
      "source": [
        "#check and drop duplicates if any\n",
        "df1.drop_duplicates(inplace=True)"
      ],
      "metadata": {
        "id": "s4udFdAQUlO-"
      },
      "execution_count": null,
      "outputs": []
    },
    {
      "cell_type": "code",
      "source": [
        "#check if the data is balanced\n",
        "df1['Attrition'].value_counts()"
      ],
      "metadata": {
        "id": "b7Dc6S-4QTj7"
      },
      "execution_count": null,
      "outputs": []
    },
    {
      "cell_type": "code",
      "source": [
        "#viewing the imbalance in the data\n",
        "plt.figure(figsize=(5,2))\n",
        "sns.countplot(y='Attrition',data=df1)"
      ],
      "metadata": {
        "id": "11RWdH0macI-"
      },
      "execution_count": null,
      "outputs": []
    },
    {
      "cell_type": "code",
      "source": [
        "# relation of Age with Attrition\n",
        "plt.figure(figsize=(10,5))\n",
        "sns.countplot(x='Age',hue='Attrition',data=df1)"
      ],
      "metadata": {
        "id": "iLaTdb-rOMOv"
      },
      "execution_count": null,
      "outputs": []
    },
    {
      "cell_type": "code",
      "source": [
        "# relation of JobSatisfaction with Attrition\n",
        "\n",
        "plt.figure(figsize=(5,2))\n",
        "sns.countplot(x='JobSatisfaction',hue='Attrition',data=df1)\n",
        "plt.show()"
      ],
      "metadata": {
        "colab": {
          "base_uri": "https://localhost:8080/",
          "height": 234
        },
        "id": "WFwmvo9OOBf5",
        "outputId": "5c769fbc-f6a8-4b31-ceb1-c012adde3fd5"
      },
      "execution_count": null,
      "outputs": [
        {
          "output_type": "display_data",
          "data": {
            "text/plain": [
              "<Figure size 500x200 with 1 Axes>"
            ],
            "image/png": "[encoded data removed]"
          },
          "metadata": {}
        }
      ]
    },
    {
      "cell_type": "code",
      "source": [
        "# relation of DistanceFromHome with Attrition\n",
        "\n",
        "plt.figure(figsize=(5,2))\n",
        "sns.countplot(x='DistanceFromHome',hue='Attrition',data=df1)"
      ],
      "metadata": {
        "colab": {
          "base_uri": "https://localhost:8080/",
          "height": 251
        },
        "id": "yO7pVQ5mVAqA",
        "outputId": "160404a1-5bd6-48e4-953a-abfbe81c2bb0"
      },
      "execution_count": null,
      "outputs": [
        {
          "output_type": "execute_result",
          "data": {
            "text/plain": [
              "<Axes: xlabel='DistanceFromHome', ylabel='count'>"
            ]
          },
          "metadata": {},
          "execution_count": 25
        },
        {
          "output_type": "display_data",
          "data": {
            "text/plain": [
              "<Figure size 500x200 with 1 Axes>"
            ],
            "image/png": "[encoded data removed]"
          },
          "metadata": {}
        }
      ]
    },
    {
      "cell_type": "code",
      "source": [
        "# relation of OverTime with Attrition seems strong\n",
        "\n",
        "plt.figure(figsize=(5,2))\n",
        "sns.countplot(x='OverTime',hue='Attrition',data=df1)"
      ],
      "metadata": {
        "id": "Hs6IxvtTVb1K"
      },
      "execution_count": null,
      "outputs": []
    },
    {
      "cell_type": "code",
      "source": [
        "# relation of Gender with Attrition seems unbiased\n",
        "\n",
        "plt.figure(figsize=(5,2))\n",
        "sns.countplot(x='Gender',hue='Attrition',data=df1)"
      ],
      "metadata": {
        "colab": {
          "base_uri": "https://localhost:8080/",
          "height": 251
        },
        "id": "F1g5gDPJWGeu",
        "outputId": "f0611cf4-1d07-4ef8-c87c-14e5f2123366"
      },
      "execution_count": null,
      "outputs": [
        {
          "output_type": "execute_result",
          "data": {
            "text/plain": [
              "<Axes: xlabel='Gender', ylabel='count'>"
            ]
          },
          "metadata": {},
          "execution_count": 27
        },
        {
          "output_type": "display_data",
          "data": {
            "text/plain": [
              "<Figure size 500x200 with 1 Axes>"
            ],
            "image/png": "[encoded data removed]"
          },
          "metadata": {}
        }
      ]
    },
    {
      "cell_type": "code",
      "source": [
        "# relation of JobLevel with Attrition seems direct\n",
        "\n",
        "plt.figure(figsize=(5,2))\n",
        "sns.countplot(x='JobLevel',hue='Attrition',data=df1)"
      ],
      "metadata": {
        "colab": {
          "base_uri": "https://localhost:8080/",
          "height": 251
        },
        "id": "CdhLwkE-WbvB",
        "outputId": "e401c342-88bf-4d42-d785-e5a18410c5fd"
      },
      "execution_count": null,
      "outputs": [
        {
          "output_type": "execute_result",
          "data": {
            "text/plain": [
              "<Axes: xlabel='JobLevel', ylabel='count'>"
            ]
          },
          "metadata": {},
          "execution_count": 28
        },
        {
          "output_type": "display_data",
          "data": {
            "text/plain": [
              "<Figure size 500x200 with 1 Axes>"
            ],
            "image/png": "[encoded data removed]"
          },
          "metadata": {}
        }
      ]
    },
    {
      "cell_type": "code",
      "source": [
        "# relation of TotalWorkingYears with Attrition\n",
        "\n",
        "plt.figure(figsize=(10,2))\n",
        "sns.countplot(x='TotalWorkingYears',hue='Attrition',data=df1)"
      ],
      "metadata": {
        "colab": {
          "base_uri": "https://localhost:8080/",
          "height": 251
        },
        "id": "6zJKzq8CWmL7",
        "outputId": "657f9b81-f246-40ab-e91a-b7c2fef22020"
      },
      "execution_count": null,
      "outputs": [
        {
          "output_type": "execute_result",
          "data": {
            "text/plain": [
              "<Axes: xlabel='TotalWorkingYears', ylabel='count'>"
            ]
          },
          "metadata": {},
          "execution_count": 30
        },
        {
          "output_type": "display_data",
          "data": {
            "text/plain": [
              "<Figure size 1000x200 with 1 Axes>"
            ],
            "image/png": "[encoded data removed]"
          },
          "metadata": {}
        }
      ]
    },
    {
      "cell_type": "code",
      "source": [
        "# relation of MaritalStatus with Attrition\n",
        "\n",
        "plt.figure(figsize=(5,2))\n",
        "sns.countplot(x='MaritalStatus',hue='Attrition',data=df1)"
      ],
      "metadata": {
        "colab": {
          "base_uri": "https://localhost:8080/",
          "height": 252
        },
        "id": "YNlUGj3FW0Sl",
        "outputId": "8952a250-c6b2-4d1e-b001-c092ab5da9f2"
      },
      "execution_count": null,
      "outputs": [
        {
          "output_type": "execute_result",
          "data": {
            "text/plain": [
              "<Axes: xlabel='MaritalStatus', ylabel='count'>"
            ]
          },
          "metadata": {},
          "execution_count": 31
        },
        {
          "output_type": "display_data",
          "data": {
            "text/plain": [
              "<Figure size 500x200 with 1 Axes>"
            ],
            "image/png": "[encoded data removed]"
          },
          "metadata": {}
        }
      ]
    },
    {
      "cell_type": "code",
      "source": [
        "# relation of PercentSalaryHike with Attrition seems direct\n",
        "\n",
        "plt.figure(figsize=(5,2))\n",
        "sns.countplot(x='PercentSalaryHike',hue='Attrition',data=df1)"
      ],
      "metadata": {
        "colab": {
          "base_uri": "https://localhost:8080/",
          "height": 251
        },
        "id": "WWEF_fTMWzpQ",
        "outputId": "7e481855-a8e9-43a1-fbeb-989ae2998c57"
      },
      "execution_count": null,
      "outputs": [
        {
          "output_type": "execute_result",
          "data": {
            "text/plain": [
              "<Axes: xlabel='PercentSalaryHike', ylabel='count'>"
            ]
          },
          "metadata": {},
          "execution_count": 32
        },
        {
          "output_type": "display_data",
          "data": {
            "text/plain": [
              "<Figure size 500x200 with 1 Axes>"
            ],
            "image/png": "[encoded data removed]"
          },
          "metadata": {}
        }
      ]
    },
    {
      "cell_type": "code",
      "source": [
        "# relation of MonthlyIncome with Attrition\n",
        "\n",
        "plt.figure(figsize=(20,2))\n",
        "sns.countplot(x='MonthlyIncome',hue='Attrition',data=df1)"
      ],
      "metadata": {
        "colab": {
          "base_uri": "https://localhost:8080/",
          "height": 188
        },
        "id": "7RqLVNndWy_2",
        "outputId": "84b4e3b0-cb81-4441-be65-8de60ac346c4"
      },
      "execution_count": null,
      "outputs": [
        {
          "output_type": "execute_result",
          "data": {
            "text/plain": [
              "<Axes: xlabel='MonthlyIncome', ylabel='count'>"
            ]
          },
          "metadata": {},
          "execution_count": 34
        },
        {
          "output_type": "display_data",
          "data": {
            "text/plain": [
              "<Figure size 2000x200 with 1 Axes>"
            ],
            "image/png": "[encoded data removed]"
          },
          "metadata": {}
        }
      ]
    },
    {
      "cell_type": "code",
      "source": [
        "#correlation between features\n",
        "plt.figure(figsize=(20,10))\n",
        "num_df1= df1.select_dtypes(include='number')\n",
        "sns.heatmap(num_df1.corr(),annot=True,cmap='coolwarm')"
      ],
      "metadata": {
        "id": "4n7J8KYnhJQu"
      },
      "execution_count": null,
      "outputs": []
    },
    {
      "cell_type": "markdown",
      "source": [
        "##Label Encoding"
      ],
      "metadata": {
        "id": "jNvEqKe3cQ2g"
      }
    },
    {
      "cell_type": "code",
      "source": [
        "#Target variable encoding\n",
        "df1['Attrition']=df1['Attrition'].map({'Yes' :1,'No' :0})"
      ],
      "metadata": {
        "id": "aB-dDIiAcZ9j"
      },
      "execution_count": null,
      "outputs": []
    },
    {
      "cell_type": "code",
      "source": [
        "#Find the categorical columns\n",
        "obj_col=df1.select_dtypes(include='object').columns\n",
        "obj_col"
      ],
      "metadata": {
        "colab": {
          "base_uri": "https://localhost:8080/"
        },
        "id": "k-cATkItc36Q",
        "outputId": "c99a975e-5dd1-4402-c7aa-124a6b76cf67"
      },
      "execution_count": null,
      "outputs": [
        {
          "output_type": "execute_result",
          "data": {
            "text/plain": [
              "Index(['BusinessTravel', 'Department', 'EducationField', 'Gender', 'JobRole',\n",
              "       'MaritalStatus', 'OverTime'],\n",
              "      dtype='object')"
            ]
          },
          "metadata": {},
          "execution_count": 27
        }
      ]
    },
    {
      "cell_type": "code",
      "source": [
        "# apply Label encoder to df_categorical\n",
        "from sklearn.preprocessing import LabelEncoder\n",
        "encoder= LabelEncoder()\n",
        "for col in obj_col:\n",
        "  df1[col]=encoder.fit_transform(df1[col])"
      ],
      "metadata": {
        "id": "UU5U6GZFc3nB"
      },
      "execution_count": null,
      "outputs": []
    },
    {
      "cell_type": "code",
      "source": [
        "# Separate features (x) and target (y)\n",
        "x = df1.drop('Attrition', axis=1)\n",
        "y = df1['Attrition']"
      ],
      "metadata": {
        "id": "d2M04bLFj0bE"
      },
      "execution_count": null,
      "outputs": []
    },
    {
      "cell_type": "code",
      "source": [
        "# Find if there’s a linear relationship between the independent variables (features)\n",
        "# and the log-odds of the dependent variable ('Attrition')\n",
        "\n",
        "import statsmodels.api as sm\n",
        "\n",
        "# Add a constant to the independent variables (required for statsmodels)\n",
        "x = sm.add_constant(x)\n",
        "\n",
        "# Fit the logistic regression model\n",
        "logit_model = sm.Logit(y, x)\n",
        "result = logit_model.fit()\n",
        "\n",
        "# Print the summary of the model\n",
        "print(result.summary())"
      ],
      "metadata": {
        "colab": {
          "base_uri": "https://localhost:8080/"
        },
        "id": "l35B72JpaZ0w",
        "outputId": "bb11e8a6-066e-4ebd-e271-fadb95011ff4"
      },
      "execution_count": null,
      "outputs": [
        {
          "output_type": "stream",
          "name": "stdout",
          "text": [
            "Optimization terminated successfully.\n",
            "         Current function value: 0.318505\n",
            "         Iterations 7\n",
            "                           Logit Regression Results                           \n",
            "==============================================================================\n",
            "Dep. Variable:              Attrition   No. Observations:                 1470\n",
            "Model:                          Logit   Df Residuals:                     1439\n",
            "Method:                           MLE   Df Model:                           30\n",
            "Date:                Fri, 25 Oct 2024   Pseudo R-squ.:                  0.2789\n",
            "Time:                        16:48:18   Log-Likelihood:                -468.20\n",
            "converged:                       True   LL-Null:                       -649.29\n",
            "Covariance Type:            nonrobust   LLR p-value:                 1.144e-58\n",
            "============================================================================================\n",
            "                               coef    std err          z      P>|z|      [0.025      0.975]\n",
            "--------------------------------------------------------------------------------------------\n",
            "const                        2.8448      1.265      2.249      0.024       0.366       5.324\n",
            "Age                         -0.0294      0.013     -2.279      0.023      -0.055      -0.004\n",
            "BusinessTravel               0.0130      0.131      0.099      0.921      -0.243       0.269\n",
            "DailyRate                   -0.0003      0.000     -1.509      0.131      -0.001    9.38e-05\n",
            "Department                   0.7665      0.252      3.038      0.002       0.272       1.261\n",
            "DistanceFromHome             0.0369      0.010      3.617      0.000       0.017       0.057\n",
            "Education                    0.0235      0.083      0.283      0.777      -0.139       0.186\n",
            "EducationField               0.0578      0.064      0.904      0.366      -0.068       0.183\n",
            "EnvironmentSatisfaction     -0.3932      0.078     -5.048      0.000      -0.546      -0.241\n",
            "Gender                       0.3707      0.176      2.107      0.035       0.026       0.716\n",
            "HourlyRate                  -0.0014      0.004     -0.324      0.746      -0.010       0.007\n",
            "JobInvolvement              -0.4961      0.116     -4.263      0.000      -0.724      -0.268\n",
            "JobLevel                    -0.3352      0.279     -1.202      0.230      -0.882       0.212\n",
            "JobRole                     -0.0748      0.049     -1.524      0.128      -0.171       0.021\n",
            "JobSatisfaction             -0.3799      0.077     -4.921      0.000      -0.531      -0.229\n",
            "MaritalStatus                0.5243      0.163      3.209      0.001       0.204       0.845\n",
            "MonthlyIncome            -4.731e-05    6.6e-05     -0.717      0.473      -0.000     8.2e-05\n",
            "MonthlyRate               5.939e-06   1.19e-05      0.499      0.617   -1.74e-05    2.92e-05\n",
            "NumCompaniesWorked           0.1722      0.036      4.788      0.000       0.102       0.243\n",
            "OverTime                     1.8154      0.180     10.072      0.000       1.462       2.169\n",
            "PercentSalaryHike           -0.0448      0.037     -1.205      0.228      -0.118       0.028\n",
            "PerformanceRating            0.3051      0.377      0.809      0.418      -0.434       1.044\n",
            "RelationshipSatisfaction    -0.2292      0.079     -2.919      0.004      -0.383      -0.075\n",
            "StockOptionLevel            -0.2530      0.144     -1.761      0.078      -0.535       0.029\n",
            "TotalWorkingYears           -0.0508      0.027     -1.859      0.063      -0.104       0.003\n",
            "TrainingTimesLastYear       -0.1525      0.069     -2.211      0.027      -0.288      -0.017\n",
            "WorkLifeBalance             -0.2758      0.115     -2.396      0.017      -0.501      -0.050\n",
            "YearsAtCompany               0.0946      0.037      2.581      0.010       0.023       0.166\n",
            "YearsInCurrentRole          -0.1438      0.043     -3.328      0.001      -0.228      -0.059\n",
            "YearsSinceLastPromotion      0.1563      0.040      3.903      0.000       0.078       0.235\n",
            "YearsWithCurrManager        -0.1338      0.044     -3.054      0.002      -0.220      -0.048\n",
            "============================================================================================\n"
          ]
        }
      ]
    },
    {
      "cell_type": "markdown",
      "source": [
        "\n",
        "Conclusion from Logit model: Logistic Regression fits:\n",
        "*   The model has identified several significant predictors of employee attrition, such as Age, DistanceFromHome, JobInvolvement, MaritalStatus, OverTime, and YearsSinceLastPromotion.\n",
        "*   Some predictors, like OverTime and DistanceFromHome, have a strong influence on the likelihood of attrition.\n",
        "*   The model shows a reasonable fit (pseudo R-squared of 0.2789),"
      ],
      "metadata": {
        "id": "_fuEnzaipb1u"
      }
    },
    {
      "cell_type": "markdown",
      "source": [
        "## Splitting the data into training and testing"
      ],
      "metadata": {
        "id": "d9Vn4KYEzsuP"
      }
    },
    {
      "cell_type": "code",
      "source": [
        "from sklearn.model_selection import train_test_split\n",
        "\n",
        "x_train, x_test, y_train, y_test= train_test_split(x,y,test_size=0.2,random_state=10)"
      ],
      "metadata": {
        "id": "wGo8iJ5RzybX"
      },
      "execution_count": null,
      "outputs": []
    },
    {
      "cell_type": "markdown",
      "source": [
        "## Apply RandomOverSampler to balance the training data"
      ],
      "metadata": {
        "id": "24HFC6nF0CPe"
      }
    },
    {
      "cell_type": "code",
      "source": [
        "from collections import Counter\n",
        "from imblearn.over_sampling import RandomOverSampler\n",
        "\n",
        "# Apply RandomOverSampler to balance the training data\n",
        "ros= RandomOverSampler(random_state=10)\n",
        "x_train_ros, y_train_ros= ros.fit_resample(x_train, y_train)\n",
        "\n",
        "# Print the class distribution before and after oversampling\n",
        "print(\"Class distribution before oversampling:\", Counter(y_train))\n",
        "print(\"Class distribution after oversampling:\", Counter(y_train_ros))"
      ],
      "metadata": {
        "id": "G3PNMmdP0HxX"
      },
      "execution_count": null,
      "outputs": []
    },
    {
      "cell_type": "markdown",
      "source": [
        "##Scale the features"
      ],
      "metadata": {
        "id": "isBxRLzTsXTO"
      }
    },
    {
      "cell_type": "code",
      "source": [
        "from sklearn.preprocessing import StandardScaler\n",
        "\n",
        "# Scale the features\n",
        "scaler= StandardScaler()\n",
        "x_train_ros= scaler.fit_transform(x_train_ros)\n",
        "x_test= scaler.transform(x_test)"
      ],
      "metadata": {
        "id": "3gAYgnA70gdP"
      },
      "execution_count": null,
      "outputs": []
    },
    {
      "cell_type": "code",
      "source": [
        "from sklearn.linear_model import LogisticRegression\n",
        "\n",
        "# Train the logisticRegression model\n",
        "model= LogisticRegression(max_iter=1000, random_state=42)\n",
        "model.fit(x_train_ros, y_train_ros)\n",
        "\n",
        "# Predict on test set\n",
        "y_pred= model.predict(x_test)"
      ],
      "metadata": {
        "colab": {
          "base_uri": "https://localhost:8080/"
        },
        "id": "sowZ8aVba0hi",
        "outputId": "eefd9322-24a7-4a0c-e442-8b6221f5b803"
      },
      "execution_count": null,
      "outputs": [
        {
          "output_type": "stream",
          "name": "stdout",
          "text": [
            "Class distribution before oversampling: Counter({0: 994, 1: 182})\n",
            "Class distribution after oversampling: Counter({0: 994, 1: 994})\n",
            "[[188  51]\n",
            " [ 12  43]]\n",
            "0.7857142857142857\n",
            "              precision    recall  f1-score   support\n",
            "\n",
            "           0       0.94      0.79      0.86       239\n",
            "           1       0.46      0.78      0.58        55\n",
            "\n",
            "    accuracy                           0.79       294\n",
            "   macro avg       0.70      0.78      0.72       294\n",
            "weighted avg       0.85      0.79      0.80       294\n",
            "\n"
          ]
        }
      ]
    },
    {
      "cell_type": "code",
      "source": [
        "from sklearn.metrics import accuracy_score, classification_report, confusion_matrix\n",
        "\n",
        "# Evaluate the model\n",
        "print(confusion_matrix(y_test,y_pred))\n",
        "print(accuracy_score(y_test,y_pred))\n",
        "print(classification_report(y_test,y_pred))"
      ],
      "metadata": {
        "id": "Djk29kZ004em"
      },
      "execution_count": null,
      "outputs": []
    },
    {
      "cell_type": "code",
      "source": [
        "# prompt: further tuning your logistic regression model, for instance by adjusting the threshold for classification or using regularization techniques (like L1/L2 regularization).\n",
        "\n",
        "# ... (Your existing code)\n",
        "\n",
        "# Further tuning: Adjusting classification threshold\n",
        "from sklearn.metrics import roc_curve, auc\n",
        "\n",
        "# Predict probabilities\n",
        "y_probs = model.predict_proba(x_test)[:, 1]\n",
        "\n",
        "# Calculate ROC curve and AUC\n",
        "fpr, tpr, thresholds = roc_curve(y_test, y_probs)\n",
        "roc_auc = auc(fpr, tpr)\n",
        "\n",
        "# Find optimal threshold based on Youden's J statistic\n",
        "optimal_idx = np.argmax(tpr - fpr)\n",
        "optimal_threshold = thresholds[optimal_idx]\n",
        "print(f\"Optimal threshold: {optimal_threshold}\")\n",
        "\n",
        "# Apply optimal threshold\n",
        "y_pred_tuned = (y_probs >= optimal_threshold).astype(int)\n",
        "\n",
        "\n",
        "# Evaluate the model with tuned threshold\n",
        "print(\"Evaluation with tuned threshold:\")\n",
        "print(confusion_matrix(y_test, y_pred_tuned))\n",
        "print(accuracy_score(y_test, y_pred_tuned))\n",
        "print(classification_report(y_test, y_pred_tuned))\n",
        "\n",
        "\n",
        "# Further tuning: L1 regularization\n",
        "model_l1 = LogisticRegression(penalty='l1', solver='liblinear', C=0.1, max_iter=1000, random_state=42) # Adjust C for regularization strength\n",
        "model_l1.fit(x_train_ros, y_train_ros)\n",
        "y_pred_l1 = model_l1.predict(x_test)\n",
        "\n",
        "print(\"\\nEvaluation with L1 regularization:\")\n",
        "print(confusion_matrix(y_test, y_pred_l1))\n",
        "print(accuracy_score(y_test, y_pred_l1))\n",
        "print(classification_report(y_test, y_pred_l1))\n",
        "\n",
        "\n",
        "# Further tuning: L2 regularization\n",
        "model_l2 = LogisticRegression(penalty='l2', C=0.1, max_iter=1000, random_state=42)  # Adjust C\n",
        "model_l2.fit(x_train_ros, y_train_ros)\n",
        "y_pred_l2 = model_l2.predict(x_test)\n",
        "\n",
        "print(\"\\nEvaluation with L2 regularization:\")\n",
        "print(confusion_matrix(y_test, y_pred_l2))\n",
        "print(accuracy_score(y_test, y_pred_l2))\n",
        "print(classification_report(y_test, y_pred_l2))"
      ],
      "metadata": {
        "id": "RkJvYYiP2I1w",
        "outputId": "9ba2e514-83b4-41a0-c0b7-31903b31ec8b",
        "colab": {
          "base_uri": "https://localhost:8080/"
        }
      },
      "execution_count": null,
      "outputs": [
        {
          "output_type": "stream",
          "name": "stdout",
          "text": [
            "Optimal threshold: 0.5140954944994794\n",
            "Evaluation with tuned threshold:\n",
            "[[191  48]\n",
            " [ 12  43]]\n",
            "0.7959183673469388\n",
            "              precision    recall  f1-score   support\n",
            "\n",
            "           0       0.94      0.80      0.86       239\n",
            "           1       0.47      0.78      0.59        55\n",
            "\n",
            "    accuracy                           0.80       294\n",
            "   macro avg       0.71      0.79      0.73       294\n",
            "weighted avg       0.85      0.80      0.81       294\n",
            "\n",
            "\n",
            "Evaluation with L1 regularization:\n",
            "[[184  55]\n",
            " [ 12  43]]\n",
            "0.7721088435374149\n",
            "              precision    recall  f1-score   support\n",
            "\n",
            "           0       0.94      0.77      0.85       239\n",
            "           1       0.44      0.78      0.56        55\n",
            "\n",
            "    accuracy                           0.77       294\n",
            "   macro avg       0.69      0.78      0.70       294\n",
            "weighted avg       0.85      0.77      0.79       294\n",
            "\n",
            "\n",
            "Evaluation with L2 regularization:\n",
            "[[186  53]\n",
            " [ 13  42]]\n",
            "0.7755102040816326\n",
            "              precision    recall  f1-score   support\n",
            "\n",
            "           0       0.93      0.78      0.85       239\n",
            "           1       0.44      0.76      0.56        55\n",
            "\n",
            "    accuracy                           0.78       294\n",
            "   macro avg       0.69      0.77      0.70       294\n",
            "weighted avg       0.84      0.78      0.80       294\n",
            "\n"
          ]
        }
      ]
    },
    {
      "cell_type": "markdown",
      "source": [
        "##Tuned Threshold (0.5141): Achieves the highest accuracy (80%), precision (0.47), and F1-score (0.59) for the minority class. The recall remains high (0.78)."
      ],
      "metadata": {
        "id": "54q92e-73cz_"
      }
    },
    {
      "cell_type": "code",
      "source": [
        "from sklearn.linear_model import LogisticRegression\n",
        "from sklearn.tree import DecisionTreeClassifier\n",
        "from sklearn.ensemble import RandomForestClassifier\n",
        "from sklearn.svm import SVC\n",
        "from sklearn.neighbors import KNeighborsClassifier\n",
        "from sklearn.model_selection import"
      ],
      "metadata": {
        "id": "HF46YlDqzZ_n"
      },
      "execution_count": null,
      "outputs": []
    }
  ]
}