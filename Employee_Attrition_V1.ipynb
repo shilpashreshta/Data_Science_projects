{
  "nbformat": 4,
  "nbformat_minor": 0,
  "metadata": {
    "colab": {
      "provenance": [],
      "authorship_tag": "ABX9TyOljLGtAzLklLpl52qNCkmd",
      "include_colab_link": true
    },
    "kernelspec": {
      "name": "python3",
      "display_name": "Python 3"
    },
    "language_info": {
      "name": "python"
    }
  },
  "cells": [
    {
      "cell_type": "markdown",
      "metadata": {
        "id": "view-in-github",
        "colab_type": "text"
      },
      "source": [
        "<a href=\"https://colab.research.google.com/github/shilpashreshta/Data_Science_projects/blob/Employee_Attribution_Prediction/Employee_Attrition_V1.ipynb\" target=\"_parent\"><img src=\"https://colab.research.google.com/assets/colab-badge.svg\" alt=\"Open In Colab\"/></a>"
      ]
    },
    {
      "cell_type": "markdown",
      "source": [
        "# EMPLOYEE ATTRITION PREDICTION"
      ],
      "metadata": {
        "id": "ywMw00HZE2AE"
      }
    },
    {
      "cell_type": "code",
      "execution_count": null,
      "metadata": {
        "id": "_lIjQmMu9kUl"
      },
      "outputs": [],
      "source": [
        "# Import Python Lybraries\n",
        "import numpy as np\n",
        "import pandas as pd\n",
        "import seaborn as sns\n",
        "import matplotlib.pyplot as plt"
      ]
    },
    {
      "cell_type": "code",
      "source": [
        "# Loading the Employee attrition data by upload or refer next cell for github file read\n",
        "from google.colab import files\n",
        "files.upload()"
      ],
      "metadata": {
        "id": "ZldFfYaOFWlm"
      },
      "execution_count": null,
      "outputs": []
    },
    {
      "cell_type": "markdown",
      "source": [
        "##Read the data"
      ],
      "metadata": {
        "id": "ROfx4eSlHzaT"
      }
    },
    {
      "cell_type": "code",
      "source": [
        "#Read the file into a dataframe\n",
        "df= pd.read_csv(r'https://raw.githubusercontent.com/shilpashreshta/Data_Science_projects/refs/heads/Employee_Attribution_Prediction/Employee-Attrition.csv')\n",
        "df.head()"
      ],
      "metadata": {
        "id": "ntqNDrjoGOon"
      },
      "execution_count": null,
      "outputs": []
    },
    {
      "cell_type": "code",
      "source": [
        "#all columns not visible above, so ...\n",
        "pd.set_option('display.max_columns',None)"
      ],
      "metadata": {
        "id": "4J_A5nv0LRVw"
      },
      "execution_count": null,
      "outputs": []
    },
    {
      "cell_type": "markdown",
      "source": [],
      "metadata": {
        "id": "PMdttEpzIlIH"
      }
    },
    {
      "cell_type": "markdown",
      "source": [
        "##Exploratory Data Analysis"
      ],
      "metadata": {
        "id": "jV_qstw0Imrr"
      }
    },
    {
      "cell_type": "code",
      "source": [
        "#shape of data\n",
        "df.shape"
      ],
      "metadata": {
        "id": "Habl_jEKGn-4"
      },
      "execution_count": null,
      "outputs": []
    },
    {
      "cell_type": "code",
      "source": [
        "#check if any columns have null values\n",
        "df.isnull().any()"
      ],
      "metadata": {
        "id": "l06soGX-H7t3"
      },
      "execution_count": null,
      "outputs": []
    },
    {
      "cell_type": "code",
      "source": [
        "#check if any column has single value entirely\n",
        "uniq_val= {col: df[col].unique() for col in df.columns}\n",
        "for col,values in uniq_val.items():\n",
        "    print(f\"{col},: ,{values}\")"
      ],
      "metadata": {
        "id": "sthtx2ETIHgn"
      },
      "execution_count": null,
      "outputs": []
    },
    {
      "cell_type": "code",
      "source": [
        "#Drop the columns having single values entirely: EmployeeCount, StandardHours, Over18\n",
        "df1=df.drop(['EmployeeCount','EmployeeNumber', 'StandardHours', 'Over18'],axis=1)"
      ],
      "metadata": {
        "id": "rX0XYXzIIxHi"
      },
      "execution_count": 23,
      "outputs": []
    },
    {
      "cell_type": "code",
      "source": [
        "#check for na values\n",
        "df1.isna().sum()"
      ],
      "metadata": {
        "id": "85a7NDhFNiqb"
      },
      "execution_count": null,
      "outputs": []
    },
    {
      "cell_type": "code",
      "source": [
        "#check for null values\n",
        "df1.isnull().sum()"
      ],
      "metadata": {
        "id": "pIQ8O6r1OXU3"
      },
      "execution_count": null,
      "outputs": []
    },
    {
      "cell_type": "code",
      "source": [
        "df1.info()"
      ],
      "metadata": {
        "id": "qpICtUzgToMx"
      },
      "execution_count": null,
      "outputs": []
    },
    {
      "cell_type": "code",
      "source": [
        "#check for statistical details\n",
        "df1.describe()"
      ],
      "metadata": {
        "id": "nrN8sP55Oeqf"
      },
      "execution_count": null,
      "outputs": []
    },
    {
      "cell_type": "code",
      "source": [
        "#check for datatypes\n",
        "#df1.select_dtypes(include='object').columns\n",
        "for col in df1.columns:\n",
        "  if df1[col].dtype==object:\n",
        "    print(str(col)+': '+str(df1[col].unique()))\n",
        "    print(df1[col].value_counts())\n",
        "    print('--------------------------------------------------')\n"
      ],
      "metadata": {
        "id": "5Dx-yt84Pn5I",
        "outputId": "a44f1b3f-baa5-44b7-9d0d-9cd4cc16109d",
        "colab": {
          "base_uri": "https://localhost:8080/"
        }
      },
      "execution_count": 19,
      "outputs": [
        {
          "output_type": "stream",
          "name": "stdout",
          "text": [
            "Attrition: ['Yes' 'No']\n",
            "Attrition\n",
            "No     1233\n",
            "Yes     237\n",
            "Name: count, dtype: int64\n",
            "--------------------------------------------------\n",
            "BusinessTravel: ['Travel_Rarely' 'Travel_Frequently' 'Non-Travel']\n",
            "BusinessTravel\n",
            "Travel_Rarely        1043\n",
            "Travel_Frequently     277\n",
            "Non-Travel            150\n",
            "Name: count, dtype: int64\n",
            "--------------------------------------------------\n",
            "Department: ['Sales' 'Research & Development' 'Human Resources']\n",
            "Department\n",
            "Research & Development    961\n",
            "Sales                     446\n",
            "Human Resources            63\n",
            "Name: count, dtype: int64\n",
            "--------------------------------------------------\n",
            "EducationField: ['Life Sciences' 'Other' 'Medical' 'Marketing' 'Technical Degree'\n",
            " 'Human Resources']\n",
            "EducationField\n",
            "Life Sciences       606\n",
            "Medical             464\n",
            "Marketing           159\n",
            "Technical Degree    132\n",
            "Other                82\n",
            "Human Resources      27\n",
            "Name: count, dtype: int64\n",
            "--------------------------------------------------\n",
            "Gender: ['Female' 'Male']\n",
            "Gender\n",
            "Male      882\n",
            "Female    588\n",
            "Name: count, dtype: int64\n",
            "--------------------------------------------------\n",
            "JobRole: ['Sales Executive' 'Research Scientist' 'Laboratory Technician'\n",
            " 'Manufacturing Director' 'Healthcare Representative' 'Manager'\n",
            " 'Sales Representative' 'Research Director' 'Human Resources']\n",
            "JobRole\n",
            "Sales Executive              326\n",
            "Research Scientist           292\n",
            "Laboratory Technician        259\n",
            "Manufacturing Director       145\n",
            "Healthcare Representative    131\n",
            "Manager                      102\n",
            "Sales Representative          83\n",
            "Research Director             80\n",
            "Human Resources               52\n",
            "Name: count, dtype: int64\n",
            "--------------------------------------------------\n",
            "MaritalStatus: ['Single' 'Married' 'Divorced']\n",
            "MaritalStatus\n",
            "Married     673\n",
            "Single      470\n",
            "Divorced    327\n",
            "Name: count, dtype: int64\n",
            "--------------------------------------------------\n",
            "OverTime: ['Yes' 'No']\n",
            "OverTime\n",
            "No     1054\n",
            "Yes     416\n",
            "Name: count, dtype: int64\n",
            "--------------------------------------------------\n"
          ]
        }
      ]
    },
    {
      "cell_type": "code",
      "source": [
        "#check and drop duplicates if any\n",
        "df1.drop_duplicates(inplace=True)"
      ],
      "metadata": {
        "id": "s4udFdAQUlO-"
      },
      "execution_count": null,
      "outputs": []
    },
    {
      "cell_type": "code",
      "source": [
        "#check if the data is balanced\n",
        "df1['Attrition'].value_counts()"
      ],
      "metadata": {
        "id": "b7Dc6S-4QTj7"
      },
      "execution_count": null,
      "outputs": []
    },
    {
      "cell_type": "code",
      "source": [
        "#viewing the imbalance in the data\n",
        "plt.figure(figsize=(5,2))\n",
        "sns.countplot(y='Attrition',data=df1)"
      ],
      "metadata": {
        "id": "11RWdH0macI-"
      },
      "execution_count": null,
      "outputs": []
    },
    {
      "cell_type": "code",
      "source": [
        "# relation of Age with Attrition\n",
        "plt.figure(figsize=(10,5))\n",
        "sns.countplot(x='Age',hue='Attrition',data=df1)"
      ],
      "metadata": {
        "id": "iLaTdb-rOMOv"
      },
      "execution_count": null,
      "outputs": []
    },
    {
      "cell_type": "code",
      "source": [
        "# relation of JobSatisfaction with Attrition\n",
        "\n",
        "plt.figure(figsize=(5,2))\n",
        "sns.countplot(x='JobSatisfaction',hue='Attrition',data=df1)\n",
        "plt.show()"
      ],
      "metadata": {
        "id": "WFwmvo9OOBf5",
        "outputId": "5c769fbc-f6a8-4b31-ceb1-c012adde3fd5",
        "colab": {
          "base_uri": "https://localhost:8080/",
          "height": 234
        }
      },
      "execution_count": 22,
      "outputs": [
        {
          "output_type": "display_data",
          "data": {
            "text/plain": [
              "<Figure size 500x200 with 1 Axes>"
            ],
            "image/png": "[encoded data removed]"
          },
          "metadata": {}
        }
      ]
    },
    {
      "cell_type": "code",
      "source": [
        "df1.columns"
      ],
      "metadata": {
        "id": "_5t69d6DaKJx",
        "outputId": "169169e8-7922-4a8f-cf8a-73246d377459",
        "colab": {
          "base_uri": "https://localhost:8080/"
        }
      },
      "execution_count": 24,
      "outputs": [
        {
          "output_type": "execute_result",
          "data": {
            "text/plain": [
              "Index(['Age', 'Attrition', 'BusinessTravel', 'DailyRate', 'Department',\n",
              "       'DistanceFromHome', 'Education', 'EducationField',\n",
              "       'EnvironmentSatisfaction', 'Gender', 'HourlyRate', 'JobInvolvement',\n",
              "       'JobLevel', 'JobRole', 'JobSatisfaction', 'MaritalStatus',\n",
              "       'MonthlyIncome', 'MonthlyRate', 'NumCompaniesWorked', 'OverTime',\n",
              "       'PercentSalaryHike', 'PerformanceRating', 'RelationshipSatisfaction',\n",
              "       'StockOptionLevel', 'TotalWorkingYears', 'TrainingTimesLastYear',\n",
              "       'WorkLifeBalance', 'YearsAtCompany', 'YearsInCurrentRole',\n",
              "       'YearsSinceLastPromotion', 'YearsWithCurrManager'],\n",
              "      dtype='object')"
            ]
          },
          "metadata": {},
          "execution_count": 24
        }
      ]
    },
    {
      "cell_type": "code",
      "source": [],
      "metadata": {
        "id": "-6NcK8gQRmcr"
      },
      "execution_count": null,
      "outputs": []
    }
  ]
}